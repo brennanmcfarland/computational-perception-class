{
 "cells": [
  {
   "cell_type": "markdown",
   "metadata": {},
   "source": [
    "## Computational Perception Assignment 2\n",
    "Brennan McFarland"
   ]
  },
  {
   "cell_type": "markdown",
   "metadata": {},
   "source": [
    "### Imports"
   ]
  },
  {
   "cell_type": "code",
   "execution_count": 29,
   "metadata": {},
   "outputs": [],
   "source": [
    "import numpy as np\n",
    "import random\n",
    "import matplotlib.pyplot as plt"
   ]
  },
  {
   "cell_type": "markdown",
   "metadata": {},
   "source": [
    "### Q1. Entropy (30 points)"
   ]
  },
  {
   "cell_type": "markdown",
   "metadata": {},
   "source": [
    "1.1 (5 points) Write code to generate $N$ random samples from a 1) a uniform distribution, 2) a normal distribution, and 3) a sparse (leptokurtic) distribution of your choosing (or whatever is available in your the statistics library).  Plot histograms for your samples."
   ]
  },
  {
   "cell_type": "code",
   "execution_count": 24,
   "metadata": {},
   "outputs": [],
   "source": [
    "def my_uniform(n, low=0.0, high=1.0):\n",
    "    return np.array([np.random.uniform(low, high) for _ in range(n)])\n",
    "\n",
    "def my_normal(n, mu=0.0, sigma=1.0):\n",
    "    return np.array([np.random.normal(mu, sigma) for _ in range(n)])\n",
    "\n",
    "def my_sparse(n, loc=0.0, scale=1.0):\n",
    "    return np.array([np.random.laplace(loc, scale) for _ in range(n)])"
   ]
  },
  {
   "cell_type": "code",
   "execution_count": 101,
   "metadata": {},
   "outputs": [
    {
     "name": "stdout",
     "output_type": "stream",
     "text": [
      "uniform  My output:  [0.79575799 0.58931258 0.25328092 0.74791299 0.8642763 ]  Numpy output:  [0.79575799 0.58931258 0.25328092 0.74791299 0.8642763 ]  Difference:  [0. 0. 0. 0. 0.]\n",
      "normal  My output:  [ 0.40116503  1.32845523  0.84745472 -0.8433735   1.19246689]  Numpy output:  [ 0.40116503  1.32845523  0.84745472 -0.8433735   1.19246689]  Difference:  [0. 0. 0. 0. 0.]\n",
      "laplace  My output:  [ 0.89530249  0.19677571 -0.68010886  0.68483379  1.30398689]  Numpy output:  [ 0.89530249  0.19677571 -0.68010886  0.68483379  1.30398689]  Difference:  [0. 0. 0. 0. 0.]\n",
      "No assertion failures, all functions equivalent\n"
     ]
    }
   ],
   "source": [
    "# test the distributions by matching against numpy functions with the same random seed\n",
    "random.seed(24601) # who am I?\n",
    "np.random.seed(24601)\n",
    "\n",
    "my_funcs = (my_uniform, my_normal, my_sparse)\n",
    "func_names = ('uniform', 'normal', 'laplace')\n",
    "np_funcs = (np.random.uniform, np.random.normal, np.random.laplace)\n",
    "\n",
    "n = 5\n",
    "for func_name, my_func, np_func in zip(func_names, my_funcs, np_funcs):\n",
    "    random.seed(24601) # who am I?\n",
    "    np.random.seed(24601)\n",
    "    my_output = my_func(n)\n",
    "    random.seed(24601) # who am I?\n",
    "    np.random.seed(24601)\n",
    "    \n",
    "    np_output = np_func(size=n)\n",
    "    difference = my_output - np_output\n",
    "    print(func_name, \" My output: \",my_output, \" Numpy output: \", np_output, \" Difference: \", difference)\n",
    "    assert np.array_equal(my_output, np_output)\n",
    "print(\"No assertion failures, all functions equivalent\")"
   ]
  },
  {
   "cell_type": "code",
   "execution_count": 105,
   "metadata": {},
   "outputs": [
    {
     "data": {
      "image/png": "[encoded data removed]",
      "text/plain": [
       "<Figure size 432x288 with 1 Axes>"
      ]
     },
     "metadata": {
      "needs_background": "light"
     },
     "output_type": "display_data"
    },
    {
     "data": {
      "image/png": "[encoded data removed]",
      "text/plain": [
       "<Figure size 432x288 with 1 Axes>"
      ]
     },
     "metadata": {
      "needs_background": "light"
     },
     "output_type": "display_data"
    },
    {
     "data": {
      "image/png": "[encoded data removed]",
      "text/plain": [
       "<Figure size 432x288 with 1 Axes>"
      ]
     },
     "metadata": {
      "needs_background": "light"
     },
     "output_type": "display_data"
    }
   ],
   "source": [
    "# plot histograms\n",
    "n=500\n",
    "for func_name, my_func in zip(func_names, my_funcs):\n",
    "    histogram = np.histogram(my_func(n))  \n",
    "    plt.hist(my_func(n))\n",
    "    plt.xlim((-5, 5))\n",
    "    plt.gcf().suptitle(func_name)\n",
    "    plt.show()"
   ]
  },
  {
   "cell_type": "markdown",
   "metadata": {},
   "source": [
    "1.2 (5 points) Write a function that *computes* a histogram (e.g. computes the counts for a set of bins).  You can use library functions (e.g. in [fit(Histogram, ...)](http://juliastats.github.io/StatsBase.jl/latest/empirical.html#Histograms) in julia or [numpy.histogram](https://docs.scipy.org/doc/numpy-1.15.0/reference/generated/numpy.histogram.html) in python)).  Your bins should be evenly spaced within a range."
   ]
  },
  {
   "cell_type": "code",
   "execution_count": 122,
   "metadata": {},
   "outputs": [],
   "source": [
    "def compute_histogram(arr, hist_bins=10, hist_range=(-1, 1)):\n",
    "    histogram = np.histogram(arr, bins=hist_bins, range=hist_range)\n",
    "    return histogram"
   ]
  },
  {
   "cell_type": "code",
   "execution_count": 123,
   "metadata": {},
   "outputs": [],
   "source": [
    "# for good measure, here's a function to plot it\n",
    "def plot_histogram(histogram):\n",
    "    plt.bar(histogram[1][:-1], histogram[0]) # we get rid of the last element because we don't need the upper bound of the max\n",
    "    plt.show()"
   ]
  },
  {
   "cell_type": "code",
   "execution_count": 124,
   "metadata": {},
   "outputs": [
    {
     "data": {
      "image/png": "[encoded data removed]",
      "text/plain": [
       "<Figure size 432x288 with 1 Axes>"
      ]
     },
     "metadata": {
      "needs_background": "light"
     },
     "output_type": "display_data"
    }
   ],
   "source": [
    "# test the function on a normal distribution\n",
    "histogram = compute_histogram(np.random.normal(size=500), hist_range=(-4, 4))\n",
    "plot_histogram(histogram)"
   ]
  },
  {
   "cell_type": "markdown",
   "metadata": {},
   "source": [
    "1.3 (5 points) Write a function to calculate the entropy\n",
    "\n",
    "$$\n",
    "-\\sum_x p(x) \\log_2 p(x)\n",
    "$$\n",
    "given a vector of counts.  It should properly handle bins with zero count. "
   ]
  },
  {
   "cell_type": "code",
   "execution_count": 179,
   "metadata": {},
   "outputs": [],
   "source": [
    "# TODO: something's not right, the entropy should be between 0 and 1\n",
    "def entropy(counts):\n",
    "    probs = counts / np.sum(counts)\n",
    "    print(np.sum(counts))\n",
    "    assert np.sum(probs) == 1.0\n",
    "    log_probs = np.log2(probs)\n",
    "    print(probs)\n",
    "    print(log_probs)\n",
    "    tmp_1 = probs*log_probs\n",
    "    print(tmp_1)\n",
    "    print(np.nansum(tmp_1))\n",
    "    entropy = -np.nansum(probs*log_probs) # nansum makes it treat log(0) as 0 (since it returns nan), so 0 counts work\n",
    "    return entropy"
   ]
  },
  {
   "cell_type": "code",
   "execution_count": 182,
   "metadata": {},
   "outputs": [
    {
     "name": "stdout",
     "output_type": "stream",
     "text": [
      "[  0   2  22  82 153 134  82  20   5   0]\n",
      "500\n",
      "[0.    0.004 0.044 0.164 0.306 0.268 0.164 0.04  0.01  0.   ]\n",
      "[       -inf -7.96578428 -4.50635267 -2.60823228 -1.70839644 -1.89969509\n",
      " -2.60823228 -4.64385619 -6.64385619        -inf]\n",
      "[        nan -0.03186314 -0.19827952 -0.42775009 -0.52276931 -0.50911829\n",
      " -0.42775009 -0.18575425 -0.06643856         nan]\n",
      "-2.3697232482763115\n",
      "2.3697232482763115\n"
     ]
    },
    {
     "name": "stderr",
     "output_type": "stream",
     "text": [
      "/home/iamroot/anaconda3/lib/python3.7/site-packages/ipykernel_launcher.py:6: RuntimeWarning: divide by zero encountered in log2\n",
      "  \n",
      "/home/iamroot/anaconda3/lib/python3.7/site-packages/ipykernel_launcher.py:9: RuntimeWarning: invalid value encountered in multiply\n",
      "  if __name__ == '__main__':\n",
      "/home/iamroot/anaconda3/lib/python3.7/site-packages/ipykernel_launcher.py:12: RuntimeWarning: invalid value encountered in multiply\n",
      "  if sys.path[0] == '':\n"
     ]
    }
   ],
   "source": [
    "# test on normal distribution\n",
    "counts = compute_histogram(np.random.normal(size=500), hist_range=(-4, 4))[0]\n",
    "print(counts)\n",
    "ent = entropy(counts)\n",
    "print(ent)"
   ]
  },
  {
   "cell_type": "markdown",
   "metadata": {},
   "source": [
    "1.4 (5 points) Estimate the entropy using the distributions above, using $2^k$ bins and the same bin boundaries for each.  Explain the differences in the entropy estimates and how they compare to the capacity of a $k$-bit binary code.\n",
    "\n",
    "1.5 (5 points) Use your function to estimate the entropy of an image (or sound) from the pixels (or samples).\n",
    "\n",
    "1.6 (5 points) Find and plot low- and high-entropy examples of images (or sounds).  What type would have the highest entropy?  The lowest?"
   ]
  },
  {
   "cell_type": "markdown",
   "metadata": {},
   "source": [
    "### Q2. 1D Channel Coding (30 points)\n",
    "\n",
    "2.1 (5 pts) Write a function that takes a vector of real-valued numbers and quantizes them into $n$ evenly-spaced bins, replacing each with either the bin center value or randomizing the values within the bin.\n",
    "\n",
    "2.2 (5 pts) Write another function that takes the quantized values and computes the \"reconstruction\" error compared to the original signal.\n",
    "\n",
    "2.3 (10 points) Write a function that computes a non-linear transform of the data above to minimize the reconstruction error of the quantized, transformed values.  Explain and illustrate your approach.\n",
    "\n",
    "2.4 (5 points) Explain how the transform is making optimal use of the capacity of this channel.\n",
    "\n",
    "2.5 (5 points) Use this function to illustrate coding of the low- and high-entropy signals you used in the previous question."
   ]
  },
  {
   "cell_type": "markdown",
   "metadata": {},
   "source": [
    "### Q3. Coding with Basis Functions (25 points)\n",
    "\n",
    "3.1 (5 points) Find a toolbox / package for computing 2D wavelet transforms.  Plot the wavelet transform for your images above (or 1D wavelet if you used sounds).  You can either Haar or Daubechies wavelets, but feel free to explore others.\n",
    "\n",
    "3.2 (10 points) Write a function to plot the wavelet basis functions by apply the inverse transform to delta function in the coeficients.  Use a small (e.g. 8x8 or 16x16) image to limit the number of basis functions you have to plot.\n",
    "\n",
    "3.3 (10 points) Apply your quantization coding functions above to the wavelet coefficients and illustrate how this code compares to coding the quantized pixels."
   ]
  },
  {
   "cell_type": "markdown",
   "metadata": {},
   "source": [
    "### Q4. Exploration (15 points)\n",
    "\n",
    "In this section, you are meant to do creative exploration.  Select a concept or topic you want to understand better that is related to the problems in this assignment or is in the readings.  Explore it, and write up and illustrate what you tried and learned.  The general idea is for you to teaching yourself, and it should read like a (relatively brief) tutorial.\n",
    "\n",
    "Here is the grading rubric:\n",
    "\n",
    "- Was the topic clearly described and concise? (5 pts)\n",
    "\n",
    "- Were the relevant concepts clearly explained? (5 pts)\n",
    "\n",
    "- Did the problem go beyond or is distinct from what was already convered in the questions above? (5 pts)"
   ]
  },
  {
   "cell_type": "code",
   "execution_count": null,
   "metadata": {},
   "outputs": [],
   "source": []
  }
 ],
 "metadata": {
  "kernelspec": {
   "display_name": "Python 3",
   "language": "python",
   "name": "python3"
  },
  "language_info": {
   "codemirror_mode": {
    "name": "ipython",
    "version": 3
   },
   "file_extension": ".py",
   "mimetype": "text/x-python",
   "name": "python",
   "nbconvert_exporter": "python",
   "pygments_lexer": "ipython3",
   "version": "3.7.0"
  },
  "latex_envs": {
   "LaTeX_envs_menu_present": true,
   "autoclose": false,
   "autocomplete": true,
   "bibliofile": "biblio.bib",
   "cite_by": "apalike",
   "current_citInitial": 1,
   "eqLabelWithNumbers": true,
   "eqNumInitial": 1,
   "hotkeys": {
    "equation": "Ctrl-E",
    "itemize": "Ctrl-I"
   },
   "labels_anchors": false,
   "latex_user_defs": false,
   "report_style_numbering": false,
   "user_envs_cfg": false
  },
  "latex_metadata": {
   "affiliation": "Case Western Reserve University",
   "author": "Michael S. Lewicki",
   "title": "EECS 491 Spring 2019 Assignment 1 (A1)"
  },
  "toc": {
   "base_numbering": 1,
   "nav_menu": {},
   "number_sections": false,
   "sideBar": true,
   "skip_h1_title": false,
   "title_cell": "Table of Contents",
   "title_sidebar": "Contents",
   "toc_cell": false,
   "toc_position": {
    "height": "calc(100% - 180px)",
    "left": "10px",
    "top": "150px",
    "width": "334.2934875488281px"
   },
   "toc_section_display": true,
   "toc_window_display": true
  }
 },
 "nbformat": 4,
 "nbformat_minor": 2
}
