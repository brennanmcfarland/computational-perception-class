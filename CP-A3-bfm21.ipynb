{
 "cells": [
  {
   "cell_type": "markdown",
   "metadata": {},
   "source": [
    "## Computational Perception Assignment 3\n",
    "\n",
    "Brennan McFarland"
   ]
  },
  {
   "cell_type": "markdown",
   "metadata": {},
   "source": [
    "### Imports"
   ]
  },
  {
   "cell_type": "code",
   "execution_count": 1,
   "metadata": {},
   "outputs": [],
   "source": [
    "import numpy as np"
   ]
  },
  {
   "cell_type": "markdown",
   "metadata": {},
   "source": [
    "### Exercise 1. The Duplex Theory (25 points)"
   ]
  },
  {
   "cell_type": "markdown",
   "metadata": {},
   "source": [
    "**Figure IIDvsAz: Interaural Intensity Difference vs. Azimuth (at different frequencies)**"
   ]
  },
  {
   "cell_type": "markdown",
   "metadata": {},
   "source": [
    "<img src=\"moore-fig6-2.jpg\" align=\"left\" style=\"width: 500px;\"/>"
   ]
  },
  {
   "cell_type": "markdown",
   "metadata": {},
   "source": [
    "**Figure MAAvsF: Minimum audible angle vs. Frequency (ploted by azimuth)**"
   ]
  },
  {
   "cell_type": "markdown",
   "metadata": {},
   "source": [
    "<img src=\"moore-fig6-5.jpg\" align=\"left\" style=\"width: 400px;\"/>"
   ]
  },
  {
   "cell_type": "markdown",
   "metadata": {},
   "source": [
    "1.1 (10 pts) Describe three features of figure IIDvsF that would be predicted by duplex theory."
   ]
  },
  {
   "cell_type": "code",
   "execution_count": 2,
   "metadata": {},
   "outputs": [],
   "source": [
    "# duplex theory described in L9-Sound Localization"
   ]
  },
  {
   "cell_type": "markdown",
   "metadata": {},
   "source": [
    "1.2 (10 pts) Describe a feature of the curves in either figure IIDvsF or MAAvsAz that is not explained by duplex theory.  What might be the source of this?"
   ]
  },
  {
   "cell_type": "markdown",
   "metadata": {},
   "source": [
    "1.3 (5 pts) Describe the functional significance of the pinnae."
   ]
  },
  {
   "cell_type": "markdown",
   "metadata": {},
   "source": [
    "### Exercise 2. Lateralization with ITD (30 points)"
   ]
  },
  {
   "cell_type": "markdown",
   "metadata": {},
   "source": [
    "<img src=\"head-soundwaves.pdf\" align=\"left\" style=\"width: 250px;\"/>"
   ]
  },
  {
   "cell_type": "markdown",
   "metadata": {},
   "source": [
    "In this problem you will create a set of sound waveforms to listen to and experiment with.  You will need headphones or earphones."
   ]
  },
  {
   "cell_type": "markdown",
   "metadata": {},
   "source": [
    "We will define that locations in front of the head have 0$^\\circ$\n",
    "azimuth and locations in front of the left ear have -90$^\\circ$\n",
    "azimuth.  Assume a simplified model of the human head in which the\n",
    "head is spherical.  Also assume that sound sources are infinitely far away, so that sound reaches the ears in straight lines (see\n",
    "figure).  With this model the ITD ($\\Delta t$) is:\n",
    "\n",
    "$$ \\Delta t = \\frac{r}{c} (\\theta+\\sin(\\theta)) $$\n",
    "\n",
    "where $r=9~\\textrm{cm}$ is the radius of the head. Assume the speed of sound is $c= 345~m/s$ (at $23^\\circ$C).\n",
    "\n",
    "2.1 (5 points) Write a function to create a sine wave of a specified frequency (Hz), duration (seconds), and sampling rate (Hz).  Illustrate it with plots.\n",
    "\n",
    "2.2 (10 points) Write a function that takes a sound waveform and an angle (in degrees) as input and returns (or creates) a stereo sound composed of both the left and right signals that reach the ears of the model listener.  Onset or offset transients will adversely affect the lateralization perception, so your function should remove them (using for example a Hanning window).  Demonstrate your function with a sine wave and with a real sound.\n",
    "\n",
    "2.3 (5 points)  Using the functions you created above, create a set of sounds at different \"pure-tone\" frequencies (include at least 200Hz and 2000Hz) that come from different angles.  Show the output by plotting the sounds with the left and right channels in different colors on the same axes.  \n",
    "\n",
    "2.4 (5 points) Listen to those sounds with headphones.  Do you\n",
    "perceive the sounds as coming from the same location or different\n",
    "locations?  Describe your observations and explain.\n",
    "\n",
    "2.5 (5 points) Now try the 'note.wav' and 'sound.wav' sounds included with the assignmnet.  How does the perception of spatial position of the sine waves compare to the sine waves?"
   ]
  },
  {
   "cell_type": "markdown",
   "metadata": {},
   "source": [
    "### Exercise 3. Estimating ITD (25 points)\n",
    "\n",
    "In the previous problem, you synthesized binaural sounds with given ITD. Now you will go the other direction.\n",
    "\n",
    "3.1 (5 points) As a preliminary exercise, use your functions above to illustrate phase ambiguity.\n",
    "\n",
    "3.2 (5 points) Show how increasing the bandwith of the sound eliminates the ambiguity.\n",
    "\n",
    "3.3 (10 points) Write a function to estiamte the ITD, $\\Delta t$, from a binaural sound as input.  Illustrate with examples.\n",
    "\n",
    "3.4 (5 points)  Use the idealized model above to estimate the lateralization $\\theta$ from the ITD.  Illustrate with examples.  Does this correspond to your own perception?  Try different cases and report your results\n",
    "\n",
    "**Considerations**\n",
    "\n",
    "Since the function for $\\Delta t$ in terms of $\\theta $ is not algebraically reducible to an analytic expression for $\\theta $ in terms of $\\Delta t$, you will need to numerically estimate this function.  You can do this, for instance, by defining a lookup table by taking different values of $\\Delta t$ to $\\theta$, or by iteratively\n",
    "searching for $\\theta$ by repeatedly computing $\\Delta t(\\theta )$ for some estimate of $\\theta$ and using the result to improve your estimate, or by iteratively solving the function using an optimization package."
   ]
  },
  {
   "cell_type": "markdown",
   "metadata": {},
   "source": [
    "### Q4. Exploration (20 points)\n",
    "\n",
    "Select a concept or topic you want to understand better that is related to the problems in this assignment or is in the readings.  Explore it, and write up and illustrate what you tried and learned.  The general idea is for you to teaching yourself, and it should read like a (relatively brief) tutorial.\n",
    "\n",
    "Here is the grading rubric:\n",
    "- Clarity of explanation. Could another student read and do this? (5 pts)\n",
    "- Novelty or distinctness. Does it complement or go beyond what was covered above? (5 pts)\n",
    "- Does the exercise teach something about the concept(s)? (5 pts)\n",
    "- How deeply does it explore the concept(s)? (5 pts)"
   ]
  },
  {
   "cell_type": "code",
   "execution_count": null,
   "metadata": {},
   "outputs": [],
   "source": []
  }
 ],
 "metadata": {
  "kernelspec": {
   "display_name": "Python 3",
   "language": "python",
   "name": "python3"
  },
  "language_info": {
   "codemirror_mode": {
    "name": "ipython",
    "version": 3
   },
   "file_extension": ".py",
   "mimetype": "text/x-python",
   "name": "python",
   "nbconvert_exporter": "python",
   "pygments_lexer": "ipython3",
   "version": "3.7.0"
  },
  "latex_envs": {
   "LaTeX_envs_menu_present": true,
   "autoclose": false,
   "autocomplete": true,
   "bibliofile": "biblio.bib",
   "cite_by": "apalike",
   "current_citInitial": 1,
   "eqLabelWithNumbers": true,
   "eqNumInitial": 1,
   "hotkeys": {
    "equation": "Ctrl-E",
    "itemize": "Ctrl-I"
   },
   "labels_anchors": false,
   "latex_user_defs": false,
   "report_style_numbering": false,
   "user_envs_cfg": false
  },
  "latex_metadata": {
   "affiliation": "Case Western Reserve University",
   "author": "Michael S. Lewicki",
   "title": "EECS 491 Spring 2019 Assignment 1 (A1)"
  },
  "toc": {
   "base_numbering": 1,
   "nav_menu": {},
   "number_sections": false,
   "sideBar": true,
   "skip_h1_title": false,
   "title_cell": "Table of Contents",
   "title_sidebar": "Contents",
   "toc_cell": false,
   "toc_position": {
    "height": "calc(100% - 180px)",
    "left": "10px",
    "top": "150px",
    "width": "165px"
   },
   "toc_section_display": true,
   "toc_window_display": true
  }
 },
 "nbformat": 4,
 "nbformat_minor": 2
}
