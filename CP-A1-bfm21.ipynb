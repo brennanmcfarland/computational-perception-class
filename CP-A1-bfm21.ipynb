{
 "cells": [
  {
   "cell_type": "markdown",
   "metadata": {},
   "source": [
    "## Computational Perception Assignment 1 {-}\n",
    "Feb 4, 2019"
   ]
  },
  {
   "cell_type": "markdown",
   "metadata": {},
   "source": [
    "### Q1. Signal Detection Theory (25 points) {-}\n",
    "\n",
    "Assume you measure a signal plus Gaussian noise: $y = x + n$, where $n \\sim N(0, \\sigma_n)$."
   ]
  },
  {
   "cell_type": "markdown",
   "metadata": {},
   "source": [
    "Imports and utility functions:"
   ]
  },
  {
   "cell_type": "code",
   "execution_count": 165,
   "metadata": {},
   "outputs": [],
   "source": [
    "import matplotlib.pyplot as plt\n",
    "import numpy as np"
   ]
  },
  {
   "cell_type": "code",
   "execution_count": 196,
   "metadata": {},
   "outputs": [],
   "source": [
    "def gaussian_distribution(mu, sigma):\n",
    "    return lambda a: np.exp(-(a - mu)**2 / (2 * sigma**2)) / np.sqrt(2 * np.pi * sigma**2)\n",
    "\n",
    "def plot_function(f, min=0, max=2, step_size=101, **args):\n",
    "    x = np.linspace(min, max, step_size)\n",
    "    y = f(x)\n",
    "    plt.plot(x, y, **args)\n",
    "\n",
    "\n",
    "def plot_boundary(x, **args):\n",
    "    plt.axvline(x, color='red', **args)\n",
    "    \n",
    "    \n",
    "def show_graph():\n",
    "    plt.grid()\n",
    "    plt.legend()\n",
    "    plt.show()\n",
    "\n",
    "\n",
    "def add_signals(sig_a, sig_b):\n",
    "    return lambda a: sig_a(a) + sig_b(a)"
   ]
  },
  {
   "cell_type": "markdown",
   "metadata": {},
   "source": [
    "1.1 Calculate and plot the optimal detection threshold overlaid on the distributions of $n$ and $y$. (5 pts)"
   ]
  },
  {
   "cell_type": "markdown",
   "metadata": {},
   "source": [
    "The distribution function for a constant signal is degenerate, infinite at its value x and 0 everywhere else.  Since that doesn't graph well, here I just set its value in the plot to 10 as an approximation. The optimal detection threshold, when P(observed|x) = P(observed|n)\n",
    "\n",
    "the below doesn't make sense because we can't just know for sure, even if it is just a constant tone, what is wrong with my reasoning here? P(observed|x) = P(observed|n) when integral of noise distribution up to threshold = integral of signal distribution up to threshold\n",
    "\n",
    "Also, since x's distribution's value is infinity at x and 0 everywhere else, it is guaranteed to be arbitrarily higher amplitude at that one point than the normal distribution of noise (excluding the case when the noise distribution's mean is x and variance is 0, in which case the signal and noise distributions are exactly the same and thus indistinguishable).  Therefore, the optimal detection threshold is arbitrarily close to x, which we can easily find as it is the peak amplitude of the signal.  "
   ]
  },
  {
   "cell_type": "code",
   "execution_count": 174,
   "metadata": {},
   "outputs": [],
   "source": [
    "def constant_signal_distribution(x):\n",
    "    # set value of pdf at x to 1\n",
    "    return lambda a: [(x == ai) * 10 for ai in a]\n",
    "\n",
    "\n",
    "def gaussian_noise_distribution(mu, sigma):\n",
    "    return gaussian_distribution(mu, sigma)"
   ]
  },
  {
   "cell_type": "code",
   "execution_count": 175,
   "metadata": {},
   "outputs": [
    {
     "data": {
      "image/png": "[encoded data removed]",
      "text/plain": [
       "<Figure size 432x288 with 1 Axes>"
      ]
     },
     "metadata": {
      "needs_background": "light"
     },
     "output_type": "display_data"
    }
   ],
   "source": [
    "plot_function(gaussian_noise_distribution(0, 1), min=-2, max=2, label='n')\n",
    "plot_function(add_signals(gaussian_noise_distribution(0, 1), constant_signal_distribution(1)), min=-2, max=2, label='y')\n",
    "plot_boundary(0, label='boundary') # TODO: actually plot this right\n",
    "show_graph()"
   ]
  },
  {
   "cell_type": "markdown",
   "metadata": {},
   "source": [
    "Generalize this model so that the signal itself is variable, i.e. $x \\sim N(\\mu_x, \\sigma_x)$.  "
   ]
  },
  {
   "cell_type": "code",
   "execution_count": 176,
   "metadata": {},
   "outputs": [],
   "source": [
    "def gaussian_signal_distribution(mu, sigma):\n",
    "    return gaussian_distribution(mu, sigma)"
   ]
  },
  {
   "cell_type": "code",
   "execution_count": 184,
   "metadata": {},
   "outputs": [
    {
     "data": {
      "image/png": "[encoded data removed]",
      "text/plain": [
       "<Figure size 432x288 with 1 Axes>"
      ]
     },
     "metadata": {
      "needs_background": "light"
     },
     "output_type": "display_data"
    }
   ],
   "source": [
    "plot_function(gaussian_noise_distribution(0, 1), min=-2, max=2, label='n')\n",
    "plot_function(add_signals(gaussian_noise_distribution(0, 1), gaussian_signal_distribution(1.5, 1)), min=-2, max=2, label='y')\n",
    "plot_boundary(0, label='boundary') # TODO: actually plot this right\n",
    "show_graph()"
   ]
  },
  {
   "cell_type": "markdown",
   "metadata": {},
   "source": [
    "1.2 Derive the distribution of $y$. (5 pts)"
   ]
  },
  {
   "cell_type": "markdown",
   "metadata": {},
   "source": [
    "1.3 Derive the optimal threshold under this model.  State any assumptions you make. (5 pts) "
   ]
  },
  {
   "cell_type": "markdown",
   "metadata": {},
   "source": [
    "1.4 What are the expressions for the probability of a successful detection (a true positive) and of a false alarm (a false positive)? (5 pts)"
   ]
  },
  {
   "cell_type": "markdown",
   "metadata": {},
   "source": [
    "1.5 Code a functions to calculate these, and use them to plot the ROC curves for different SNRs. Follow the format in Dusenbery-fig.5.2. You should use a toolbox or package that defines common distributions and a cdf function. (5 pts)"
   ]
  },
  {
   "cell_type": "markdown",
   "metadata": {},
   "source": [
    "### Q2. Detection in a time-varying signal (15 points) {-}\n",
    "\n",
    "Now assume your signals are time-varying: $y(t) = x(t) + n(t)$.  Assume again Gaussian noise, $y(t) \\sim N(0, \\sigma_n)$, and for simplicity, that $t$ is discrete and the measured samples $y(t)$ are independent.  The signal $x(t)$, however, only arrives at random intervals and is zero elsewhere.  Events that arrive at random, independent invervals obey Poisson statistics, and the interval can be modeled with an exponential distribution."
   ]
  },
  {
   "cell_type": "markdown",
   "metadata": {},
   "source": [
    "2.1 Write code to generate signals from this model. (5 pts)"
   ]
  },
  {
   "cell_type": "code",
   "execution_count": 206,
   "metadata": {},
   "outputs": [],
   "source": [
    "# domain: the x axis of the signal\n",
    "# lamb: lambda parameter of the exponential distribution\n",
    "def poisson_point_process(domain, lamb):\n",
    "    # get intervals between signal by sampling from exponential distribution\n",
    "    # and sample the signal at each of those points from the gaussian\n",
    "    steps = domain.shape[0]\n",
    "    codomain = np.zeros(domain.shape)\n",
    "    step = 0\n",
    "    while True:\n",
    "        step += int(np.random.exponential(1.0/lamb))\n",
    "        if step >= steps:\n",
    "            return codomain\n",
    "        else:\n",
    "            # TODO: ask in class if signal is supposed to be constant or Gaussian, here we're just setting it to a constant\n",
    "            codomain[step] = 1 # TODO: I also set this to 1 arbitrarily\n",
    "\n",
    "\n",
    "def poisson_signal(lamb):\n",
    "    return lambda a: poisson_point_process(a, lamb)"
   ]
  },
  {
   "cell_type": "markdown",
   "metadata": {},
   "source": [
    "2.2 Derive the optimal threshold detector for this scenario.  Be sure to consider the probability of the signal being present in any particular sample.  Contrast this with the threshold in Q1. (5 pts)"
   ]
  },
  {
   "cell_type": "code",
   "execution_count": 207,
   "metadata": {},
   "outputs": [],
   "source": [
    "# TODO"
   ]
  },
  {
   "cell_type": "markdown",
   "metadata": {},
   "source": [
    "2.3 Write code to plot your generated signal and illustrate threshold detection with a roughly 95% true positive rate. (5 pts)"
   ]
  },
  {
   "cell_type": "code",
   "execution_count": 212,
   "metadata": {},
   "outputs": [
    {
     "data": {
      "image/png": "[encoded data removed]",
      "text/plain": [
       "<Figure size 432x288 with 1 Axes>"
      ]
     },
     "metadata": {
      "needs_background": "light"
     },
     "output_type": "display_data"
    }
   ],
   "source": [
    "plot_function(poisson_signal(.1), min=-2, max=2, label='n')\n",
    "plot_boundary(0, label='boundary') # TODO: actually plot this right\n",
    "show_graph()\n",
    "# TODO"
   ]
  },
  {
   "cell_type": "markdown",
   "metadata": {},
   "source": [
    "### Q3. Spectra and Spectrograms (15 points) {-}\n",
    "\n",
    "3.1 Read the bach.wav file and plot its Fourier spectrum. (5 pts)\n",
    "\n",
    "3.2 Plot the spectrogram (i.e. the time-varying spectrum).  Choose a time interval, windowing, and other parameters such that the individual notes and their harmonics are clearly visible.  Be sure to explain your choices. (5 pts)\n",
    "\n",
    "3.3 Plot the spectrogram of the first note. Follow the format in AN-fig.1.4.  This note is called $E_5$, which is the E above middle C, and in common tunings has a pitch of 659 Hz.  Show that this note roughly matches this frequency. (5 pts)"
   ]
  },
  {
   "cell_type": "markdown",
   "metadata": {},
   "source": [
    "### Q4. Filtering (25 points) {-}\n",
    "\n",
    "4.1 Write a function to calcuate discrete convolution $y(t) = h(t) * x(t)$.  For pedagogical purposes, do this \"by hand\", i.e. with for loops, and do not use a built-in function. (5 pts)\n",
    "\n",
    "4.2. Write code to define a low-pass filter.  A simple low-pass filter is a Gaussian with a width defined in samples.  Convolving this will take a weighted average of the samples around $x(t)$. (5 pts)\n",
    "\n",
    "4.3. Apply your filter to bach.wav.  Illustrate and explain what you did. (5 pts)\n",
    "\n",
    "4.4. Write a function for a Gaussian-modulated sine wave.  It should take as parameters, frequency (in Hz), width (in samples), and standard deviation (in secs). (5 pts)\n",
    "\n",
    "4.5 Use your above function to make a \"matched\" filter for the first note.  Convolve this filter with bach.wav and illustrate the extent to which this simplistic scheme is able to detect occurences of the note $E_5$ in the audio.  For reference, the music, with the $E_5$ notes circled in red is below.  The audio goes a little beyond what is show, but the note doesn't occur there. (5 pts)\n",
    "\n",
    "![bach.wav music](bach-music.png)"
   ]
  },
  {
   "cell_type": "markdown",
   "metadata": {},
   "source": [
    "### Q5. Questions about the Readings (10 points) {-}\n",
    "\n",
    "5.1 Summarize the evidence that we can detect single photons. (5 pts)\n",
    "\n",
    "5.2 Summarize the evidence that the some animals can detect sounds that result in *subatomic* vibrations of their eardrum. (5 pts)"
   ]
  },
  {
   "cell_type": "markdown",
   "metadata": {},
   "source": [
    "### Q6. Exploration (10 points) {-}\n",
    "\n",
    "In this section, you are meant to do creative exploration.  Select a concept or topic you want to understand better that is related to the problems in this assignment or is in the readings.  Explore it, and write up and illustrate what you tried and learned.  The general idea is for you to teaching yourself, and it should read like a (relatively brief) tutorial.\n",
    "\n",
    "Here is the grading rubric:\n",
    "\n",
    "- Was the topic clearly described and concise? (3 pts)\n",
    "\n",
    "- Were the relevant concepts clearly explained? (3 pts)\n",
    "\n",
    "- Did the problem go beyond or is distinct from what was already convered in the questions above? (4 pts)"
   ]
  },
  {
   "cell_type": "code",
   "execution_count": null,
   "metadata": {},
   "outputs": [],
   "source": []
  }
 ],
 "metadata": {
  "kernelspec": {
   "display_name": "Python 3",
   "language": "python",
   "name": "python3"
  },
  "language_info": {
   "codemirror_mode": {
    "name": "ipython",
    "version": 3
   },
   "file_extension": ".py",
   "mimetype": "text/x-python",
   "name": "python",
   "nbconvert_exporter": "python",
   "pygments_lexer": "ipython3",
   "version": "3.7.0"
  },
  "latex_envs": {
   "LaTeX_envs_menu_present": true,
   "autoclose": false,
   "autocomplete": true,
   "bibliofile": "biblio.bib",
   "cite_by": "apalike",
   "current_citInitial": 1,
   "eqLabelWithNumbers": true,
   "eqNumInitial": 1,
   "hotkeys": {
    "equation": "Ctrl-E",
    "itemize": "Ctrl-I"
   },
   "labels_anchors": false,
   "latex_user_defs": false,
   "report_style_numbering": false,
   "user_envs_cfg": false
  },
  "latex_metadata": {
   "affiliation": "Case Western Reserve University",
   "author": "Michael S. Lewicki",
   "title": "EECS 491 Spring 2019 Assignment 1 (A1)"
  },
  "toc": {
   "base_numbering": 1,
   "nav_menu": {},
   "number_sections": false,
   "sideBar": true,
   "skip_h1_title": false,
   "title_cell": "Table of Contents",
   "title_sidebar": "Contents",
   "toc_cell": false,
   "toc_position": {
    "height": "calc(100% - 180px)",
    "left": "10px",
    "top": "150px",
    "width": "334.2934875488281px"
   },
   "toc_section_display": true,
   "toc_window_display": true
  }
 },
 "nbformat": 4,
 "nbformat_minor": 2
}
